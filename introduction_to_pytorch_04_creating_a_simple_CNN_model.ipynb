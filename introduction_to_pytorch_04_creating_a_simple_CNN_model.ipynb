{
  "nbformat": 4,
  "nbformat_minor": 0,
  "metadata": {
    "colab": {
      "provenance": [],
      "authorship_tag": "ABX9TyMmH/uBUs6SvRV4S9uHR2uX",
      "include_colab_link": true
    },
    "kernelspec": {
      "name": "python3",
      "display_name": "Python 3"
    },
    "language_info": {
      "name": "python"
    }
  },
  "cells": [
    {
      "cell_type": "markdown",
      "metadata": {
        "id": "view-in-github",
        "colab_type": "text"
      },
      "source": [
        "<a href=\"https://colab.research.google.com/github/math-maven/introduction2pytorch/blob/main/introduction_to_pytorch_04_creating_a_simple_CNN_model.ipynb\" target=\"_parent\"><img src=\"https://colab.research.google.com/assets/colab-badge.svg\" alt=\"Open In Colab\"/></a>"
      ]
    },
    {
      "cell_type": "code",
      "execution_count": null,
      "metadata": {
        "id": "3H769V-4snDv"
      },
      "outputs": [],
      "source": [
        "import torch\n",
        "import torchvision\n",
        "import torch.nn as nn\n",
        "import torchvision.transforms as transforms\n",
        "import matplotlib.pyplot as plt"
      ]
    },
    {
      "cell_type": "code",
      "source": [
        "from torchsummary import summary"
      ],
      "metadata": {
        "id": "dpu3IERJp2on"
      },
      "execution_count": null,
      "outputs": []
    },
    {
      "cell_type": "code",
      "source": [
        "transform = transforms.Compose([transforms.ToTensor(),\n",
        "                                transforms.Normalize(0.5,0.5)])"
      ],
      "metadata": {
        "id": "v924VnsasteM"
      },
      "execution_count": null,
      "outputs": []
    },
    {
      "cell_type": "code",
      "source": [
        "train_dataset = torchvision.datasets.FashionMNIST(root = '/content/data', download =True,train=True,transform = transform  )\n",
        "train_loader = torch.utils.data.DataLoader(train_dataset, batch_size = 32,shuffle =True)"
      ],
      "metadata": {
        "id": "l88DMF0EsuuU",
        "colab": {
          "base_uri": "https://localhost:8080/"
        },
        "outputId": "dcd68ff2-270f-4b2a-ffb6-227585d4ded3"
      },
      "execution_count": null,
      "outputs": [
        {
          "output_type": "stream",
          "name": "stdout",
          "text": [
            "Downloading http://fashion-mnist.s3-website.eu-central-1.amazonaws.com/train-images-idx3-ubyte.gz\n",
            "Downloading http://fashion-mnist.s3-website.eu-central-1.amazonaws.com/train-images-idx3-ubyte.gz to /content/data/FashionMNIST/raw/train-images-idx3-ubyte.gz\n"
          ]
        },
        {
          "output_type": "stream",
          "name": "stderr",
          "text": [
            "100%|██████████| 26421880/26421880 [00:01<00:00, 21414907.53it/s]\n"
          ]
        },
        {
          "output_type": "stream",
          "name": "stdout",
          "text": [
            "Extracting /content/data/FashionMNIST/raw/train-images-idx3-ubyte.gz to /content/data/FashionMNIST/raw\n",
            "\n",
            "Downloading http://fashion-mnist.s3-website.eu-central-1.amazonaws.com/train-labels-idx1-ubyte.gz\n",
            "Downloading http://fashion-mnist.s3-website.eu-central-1.amazonaws.com/train-labels-idx1-ubyte.gz to /content/data/FashionMNIST/raw/train-labels-idx1-ubyte.gz\n"
          ]
        },
        {
          "output_type": "stream",
          "name": "stderr",
          "text": [
            "100%|██████████| 29515/29515 [00:00<00:00, 345207.56it/s]\n"
          ]
        },
        {
          "output_type": "stream",
          "name": "stdout",
          "text": [
            "Extracting /content/data/FashionMNIST/raw/train-labels-idx1-ubyte.gz to /content/data/FashionMNIST/raw\n",
            "\n",
            "Downloading http://fashion-mnist.s3-website.eu-central-1.amazonaws.com/t10k-images-idx3-ubyte.gz\n",
            "Downloading http://fashion-mnist.s3-website.eu-central-1.amazonaws.com/t10k-images-idx3-ubyte.gz to /content/data/FashionMNIST/raw/t10k-images-idx3-ubyte.gz\n"
          ]
        },
        {
          "output_type": "stream",
          "name": "stderr",
          "text": [
            "100%|██████████| 4422102/4422102 [00:00<00:00, 6217822.48it/s]\n"
          ]
        },
        {
          "output_type": "stream",
          "name": "stdout",
          "text": [
            "Extracting /content/data/FashionMNIST/raw/t10k-images-idx3-ubyte.gz to /content/data/FashionMNIST/raw\n",
            "\n",
            "Downloading http://fashion-mnist.s3-website.eu-central-1.amazonaws.com/t10k-labels-idx1-ubyte.gz\n",
            "Downloading http://fashion-mnist.s3-website.eu-central-1.amazonaws.com/t10k-labels-idx1-ubyte.gz to /content/data/FashionMNIST/raw/t10k-labels-idx1-ubyte.gz\n"
          ]
        },
        {
          "output_type": "stream",
          "name": "stderr",
          "text": [
            "100%|██████████| 5148/5148 [00:00<00:00, 18314060.21it/s]"
          ]
        },
        {
          "output_type": "stream",
          "name": "stdout",
          "text": [
            "Extracting /content/data/FashionMNIST/raw/t10k-labels-idx1-ubyte.gz to /content/data/FashionMNIST/raw\n",
            "\n"
          ]
        },
        {
          "output_type": "stream",
          "name": "stderr",
          "text": [
            "\n"
          ]
        }
      ]
    },
    {
      "cell_type": "code",
      "source": [
        "test_dataset = torchvision.datasets.FashionMNIST(root = '/content/data', download =True,train=False,transform = transform  )\n",
        "test_loader = torch.utils.data.DataLoader(test_dataset, batch_size = 32,shuffle =False)"
      ],
      "metadata": {
        "id": "1jZ8W3Siswd0"
      },
      "execution_count": null,
      "outputs": []
    },
    {
      "cell_type": "code",
      "source": [
        "torch.cuda.is_available()"
      ],
      "metadata": {
        "colab": {
          "base_uri": "https://localhost:8080/"
        },
        "id": "btn1KadzIqal",
        "outputId": "9c8fdef7-bbca-4651-ecfa-5b4c4d876b91"
      },
      "execution_count": null,
      "outputs": [
        {
          "output_type": "execute_result",
          "data": {
            "text/plain": [
              "False"
            ]
          },
          "metadata": {},
          "execution_count": 6
        }
      ]
    },
    {
      "cell_type": "code",
      "source": [
        "device = \"cuda\" if torch.cuda.is_available() else \"cpu\""
      ],
      "metadata": {
        "id": "1JhxlaZhC9wS"
      },
      "execution_count": null,
      "outputs": []
    },
    {
      "cell_type": "code",
      "source": [
        "device"
      ],
      "metadata": {
        "colab": {
          "base_uri": "https://localhost:8080/",
          "height": 35
        },
        "id": "1uYaRFEMJUc6",
        "outputId": "363dd4d6-c988-488a-c0c3-d7002effea4e"
      },
      "execution_count": null,
      "outputs": [
        {
          "output_type": "execute_result",
          "data": {
            "text/plain": [
              "'cpu'"
            ],
            "application/vnd.google.colaboratory.intrinsic+json": {
              "type": "string"
            }
          },
          "metadata": {},
          "execution_count": 8
        }
      ]
    },
    {
      "cell_type": "code",
      "source": [
        "1,28,28 > conv>>>>32,28,28 >>>pooling,>>32,14,14>>conv  >>>>64,14,14  pooling>>>>64,7,7 flatten>>>64*7*7 dense >>>>(64*7*7,10) softmax >>>>10"
      ],
      "metadata": {
        "id": "0rl0XVkpq2O4"
      },
      "execution_count": null,
      "outputs": []
    },
    {
      "cell_type": "code",
      "source": [
        "class SimpleCNN(nn.Module):\n",
        "    def __init__(self):\n",
        "        super(SimpleCNN,self).__init__()\n",
        "        self.layers = nn.Sequential(nn.Conv2d(in_channels=1,out_channels=32,kernel_size=3,stride=2,padding =1),\n",
        "                                    nn.ReLU(),\n",
        "                                    nn.MaxPool2d(kernel_size =2 ),\n",
        "                                    nn.Conv2d(in_channels=32,out_channels=64,kernel_size=3,stride=1,padding =1),\n",
        "                                    nn.ReLU(),\n",
        "                                    nn.MaxPool2d(kernel_size =2 ),\n",
        "                                    nn.Flatten(),\n",
        "                                    nn.Linear(64*7*7,10),\n",
        "                                    nn.Softmax(dim =1)\n",
        "                                              )\n",
        "\n",
        "\n",
        "\n",
        "    def forward(self,x):\n",
        "        outputs = self.layers(x)\n",
        "        return outputs"
      ],
      "metadata": {
        "id": "-ypaqfQLqggH"
      },
      "execution_count": null,
      "outputs": []
    },
    {
      "cell_type": "code",
      "source": [
        "# class SimpleClassifier(nn.Module):\n",
        "#     def __init__(self):\n",
        "#         super(SimpleClassifier,self).__init__()\n",
        "#         self.flatten = nn.Flatten()\n",
        "#         self.fc1 = nn.Linear(784,128)\n",
        "#         self.relu = nn.ReLU()\n",
        "#         self.fc2 = nn.Linear(128,10)\n",
        "#         self.softmax = nn.Softmax(dim =1)\n",
        "\n",
        "#     def forward(self,x):\n",
        "#         x = self.flatten(x)\n",
        "#         x = self.fc1(x)\n",
        "#         x = self.relu(x)\n",
        "#         x = self.fc2(x)\n",
        "#         outputs = self.softmax(x)\n",
        "#         return outputs"
      ],
      "metadata": {
        "id": "CCu3triLqboJ"
      },
      "execution_count": null,
      "outputs": []
    },
    {
      "cell_type": "code",
      "source": [
        "model = SimpleCNN()\n",
        "model.to(device)"
      ],
      "metadata": {
        "colab": {
          "base_uri": "https://localhost:8080/"
        },
        "id": "royuhIQ8EDJ7",
        "outputId": "18f3f7d9-fca9-4aff-8f9f-2178c0546615"
      },
      "execution_count": null,
      "outputs": [
        {
          "output_type": "execute_result",
          "data": {
            "text/plain": [
              "SimpleCNN(\n",
              "  (layers): Sequential(\n",
              "    (0): Conv2d(1, 32, kernel_size=(3, 3), stride=(1, 1), padding=(1, 1))\n",
              "    (1): ReLU()\n",
              "    (2): MaxPool2d(kernel_size=2, stride=2, padding=0, dilation=1, ceil_mode=False)\n",
              "    (3): Conv2d(32, 64, kernel_size=(3, 3), stride=(1, 1), padding=(1, 1))\n",
              "    (4): ReLU()\n",
              "    (5): MaxPool2d(kernel_size=2, stride=2, padding=0, dilation=1, ceil_mode=False)\n",
              "    (6): Flatten(start_dim=1, end_dim=-1)\n",
              "    (7): Linear(in_features=3136, out_features=10, bias=True)\n",
              "    (8): Softmax(dim=1)\n",
              "  )\n",
              ")"
            ]
          },
          "metadata": {},
          "execution_count": 13
        }
      ]
    },
    {
      "cell_type": "code",
      "source": [
        "summary(model,(1,28,28))"
      ],
      "metadata": {
        "colab": {
          "base_uri": "https://localhost:8080/"
        },
        "id": "YsYgGaLip_aH",
        "outputId": "c32f8373-2dae-4822-b98c-0bf0d9cbded6"
      },
      "execution_count": null,
      "outputs": [
        {
          "output_type": "stream",
          "name": "stdout",
          "text": [
            "----------------------------------------------------------------\n",
            "        Layer (type)               Output Shape         Param #\n",
            "================================================================\n",
            "            Conv2d-1           [-1, 32, 28, 28]             320\n",
            "              ReLU-2           [-1, 32, 28, 28]               0\n",
            "         MaxPool2d-3           [-1, 32, 14, 14]               0\n",
            "            Conv2d-4           [-1, 64, 14, 14]          18,496\n",
            "              ReLU-5           [-1, 64, 14, 14]               0\n",
            "         MaxPool2d-6             [-1, 64, 7, 7]               0\n",
            "           Flatten-7                 [-1, 3136]               0\n",
            "            Linear-8                   [-1, 10]          31,370\n",
            "           Softmax-9                   [-1, 10]               0\n",
            "================================================================\n",
            "Total params: 50,186\n",
            "Trainable params: 50,186\n",
            "Non-trainable params: 0\n",
            "----------------------------------------------------------------\n",
            "Input size (MB): 0.00\n",
            "Forward/backward pass size (MB): 0.67\n",
            "Params size (MB): 0.19\n",
            "Estimated Total Size (MB): 0.86\n",
            "----------------------------------------------------------------\n"
          ]
        }
      ]
    },
    {
      "cell_type": "code",
      "source": [
        "loss_fn = nn.CrossEntropyLoss()\n",
        "optimizer = torch.optim.Adam(model.parameters(),lr = 0.001)"
      ],
      "metadata": {
        "id": "t-j6whUwEGbW"
      },
      "execution_count": null,
      "outputs": []
    },
    {
      "cell_type": "code",
      "source": [
        "num_epoch =3"
      ],
      "metadata": {
        "id": "AOFMv3C3F4XD"
      },
      "execution_count": null,
      "outputs": []
    },
    {
      "cell_type": "code",
      "source": [
        "for epoch in range(num_epoch):\n",
        "    for i,(images, labels) in enumerate(train_loader):\n",
        "        images = images.to(device)\n",
        "        labels = labels.to(device)\n",
        "        outputs = model(images)\n",
        "        loss = loss_fn(outputs,labels)\n",
        "        optimizer.zero_grad()\n",
        "        loss.backward()\n",
        "        optimizer.step()\n",
        "        if i%100==0:\n",
        "            print(f\"epoch : {epoch+1} batch:{i}  , loss :{loss}\")"
      ],
      "metadata": {
        "colab": {
          "base_uri": "https://localhost:8080/"
        },
        "id": "lvVkdCwbEnf5",
        "outputId": "fc91d569-7212-4c6c-ac6a-822782938031"
      },
      "execution_count": null,
      "outputs": [
        {
          "output_type": "stream",
          "name": "stdout",
          "text": [
            "epoch : 1 batch:0  , loss :2.3029613494873047\n",
            "epoch : 1 batch:100  , loss :1.844369888305664\n",
            "epoch : 1 batch:200  , loss :1.7971373796463013\n",
            "epoch : 1 batch:300  , loss :1.8299692869186401\n",
            "epoch : 1 batch:400  , loss :1.8196938037872314\n",
            "epoch : 1 batch:500  , loss :1.9295217990875244\n",
            "epoch : 1 batch:600  , loss :1.7731554508209229\n",
            "epoch : 1 batch:700  , loss :1.8195011615753174\n",
            "epoch : 1 batch:800  , loss :1.660549283027649\n",
            "epoch : 1 batch:900  , loss :1.7717903852462769\n",
            "epoch : 1 batch:1000  , loss :1.8321115970611572\n",
            "epoch : 1 batch:1100  , loss :1.6924464702606201\n",
            "epoch : 1 batch:1200  , loss :1.7142114639282227\n",
            "epoch : 1 batch:1300  , loss :1.6796942949295044\n",
            "epoch : 1 batch:1400  , loss :1.5321261882781982\n",
            "epoch : 1 batch:1500  , loss :1.6232494115829468\n",
            "epoch : 1 batch:1600  , loss :1.696037769317627\n",
            "epoch : 1 batch:1700  , loss :1.6089675426483154\n",
            "epoch : 1 batch:1800  , loss :1.6263949871063232\n",
            "epoch : 2 batch:0  , loss :1.6183993816375732\n",
            "epoch : 2 batch:100  , loss :1.6682772636413574\n",
            "epoch : 2 batch:200  , loss :1.5963890552520752\n",
            "epoch : 2 batch:300  , loss :1.7054258584976196\n",
            "epoch : 2 batch:400  , loss :1.6600525379180908\n",
            "epoch : 2 batch:500  , loss :1.6309654712677002\n",
            "epoch : 2 batch:600  , loss :1.6478605270385742\n",
            "epoch : 2 batch:700  , loss :1.6248561143875122\n",
            "epoch : 2 batch:800  , loss :1.5359317064285278\n",
            "epoch : 2 batch:900  , loss :1.6119613647460938\n",
            "epoch : 2 batch:1000  , loss :1.5553104877471924\n",
            "epoch : 2 batch:1100  , loss :1.6175448894500732\n",
            "epoch : 2 batch:1200  , loss :1.7254362106323242\n",
            "epoch : 2 batch:1300  , loss :1.6380980014801025\n",
            "epoch : 2 batch:1400  , loss :1.5754258632659912\n",
            "epoch : 2 batch:1500  , loss :1.594343662261963\n",
            "epoch : 2 batch:1600  , loss :1.6022179126739502\n",
            "epoch : 2 batch:1700  , loss :1.5971400737762451\n",
            "epoch : 2 batch:1800  , loss :1.5273133516311646\n",
            "epoch : 3 batch:0  , loss :1.618465542793274\n",
            "epoch : 3 batch:100  , loss :1.5884647369384766\n",
            "epoch : 3 batch:200  , loss :1.5643389225006104\n",
            "epoch : 3 batch:300  , loss :1.6043027639389038\n",
            "epoch : 3 batch:400  , loss :1.6370278596878052\n",
            "epoch : 3 batch:500  , loss :1.6071661710739136\n",
            "epoch : 3 batch:600  , loss :1.5808535814285278\n",
            "epoch : 3 batch:700  , loss :1.5429428815841675\n",
            "epoch : 3 batch:800  , loss :1.5103133916854858\n",
            "epoch : 3 batch:900  , loss :1.4980014562606812\n",
            "epoch : 3 batch:1000  , loss :1.5622445344924927\n",
            "epoch : 3 batch:1100  , loss :1.5773571729660034\n",
            "epoch : 3 batch:1200  , loss :1.529319405555725\n",
            "epoch : 3 batch:1300  , loss :1.597792387008667\n",
            "epoch : 3 batch:1400  , loss :1.6292424201965332\n",
            "epoch : 3 batch:1500  , loss :1.575650930404663\n",
            "epoch : 3 batch:1600  , loss :1.5986638069152832\n",
            "epoch : 3 batch:1700  , loss :1.465334177017212\n",
            "epoch : 3 batch:1800  , loss :1.464012622833252\n"
          ]
        }
      ]
    },
    {
      "cell_type": "code",
      "source": [
        "correct = 0\n",
        "total = 0\n",
        "with torch.no_grad():\n",
        "    for images,labels in test_loader:\n",
        "        images = images.to(device)\n",
        "        labels = labels.to(device)\n",
        "\n",
        "        outputs = model(images)\n",
        "        predictions = torch.argmax(outputs ,dim =1)\n",
        "        correct += (predictions==labels).sum().item()\n",
        "        total += labels.size(0)\n",
        "print(correct/total)"
      ],
      "metadata": {
        "colab": {
          "base_uri": "https://localhost:8080/"
        },
        "id": "JeixAft1Fr5S",
        "outputId": "8e5c4bb7-4472-47bf-f02b-1ebd3bd17b9c"
      },
      "execution_count": null,
      "outputs": [
        {
          "output_type": "stream",
          "name": "stdout",
          "text": [
            "0.8865\n"
          ]
        }
      ]
    },
    {
      "cell_type": "code",
      "source": [
        "import random\n",
        "\n",
        "\n",
        "class_names =train_dataset.classes\n",
        "\n",
        "num_samples = 5\n",
        "sample_indices = random.sample(range(len(test_dataset)), num_samples)\n",
        "\n",
        "model.eval()\n",
        "\n",
        "plt.figure(figsize=(15, 10))\n",
        "for idx, sample_idx in enumerate(sample_indices):\n",
        "    image, label = test_dataset[sample_idx]\n",
        "    image = image.unsqueeze(0)  # Add batch dimension\n",
        "    image = image.to(device)\n",
        "\n",
        "    with torch.no_grad():\n",
        "        output = model(image)\n",
        "        _, predicted = torch.max(output.data, 1)\n",
        "        predicted_label = predicted.item()\n",
        "\n",
        "    plt.subplot(2, num_samples, idx + 1)\n",
        "    plt.imshow(image[0][0].to(\"cpu\"), cmap='gray')\n",
        "    plt.title(f\"True: {class_names[label]}\\nPred: {class_names[predicted_label]}\")\n",
        "    plt.axis('off')\n",
        "\n",
        "plt.tight_layout()\n",
        "plt.show()"
      ],
      "metadata": {
        "colab": {
          "base_uri": "https://localhost:8080/",
          "height": 362
        },
        "id": "LnjCwUKGIDK_",
        "outputId": "7b48d408-85cc-498a-b9be-7c439bcaf0bb"
      },
      "execution_count": null,
      "outputs": [
        {
          "output_type": "display_data",
          "data": {
            "text/plain": [
              "<Figure size 1500x1000 with 5 Axes>"
            ],
            "image/png": "[encoded data removed]"
          },
          "metadata": {}
        }
      ]
    },
    {
      "cell_type": "code",
      "source": [],
      "metadata": {
        "id": "335BXd8PIOUK"
      },
      "execution_count": null,
      "outputs": []
    }
  ]
}